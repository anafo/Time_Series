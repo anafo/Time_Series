{
 "cells": [
  {
   "cell_type": "code",
   "execution_count": 4,
   "metadata": {},
   "outputs": [],
   "source": [
    "# Install\n",
    "# pip install h2o\n",
    "# conda install openjdk\n",
    "\n",
    "import numpy as np\n",
    "import pandas as pd\n",
    "import datetime\n",
    "import h2o\n",
    "from h2o.automl import H2OAutoML"
   ]
  },
  {
   "cell_type": "code",
   "execution_count": 5,
   "metadata": {},
   "outputs": [
    {
     "data": {
      "text/html": [
       "<div>\n",
       "<style scoped>\n",
       "    .dataframe tbody tr th:only-of-type {\n",
       "        vertical-align: middle;\n",
       "    }\n",
       "\n",
       "    .dataframe tbody tr th {\n",
       "        vertical-align: top;\n",
       "    }\n",
       "\n",
       "    .dataframe thead th {\n",
       "        text-align: right;\n",
       "    }\n",
       "</style>\n",
       "<table border=\"1\" class=\"dataframe\">\n",
       "  <thead>\n",
       "    <tr style=\"text-align: right;\">\n",
       "      <th></th>\n",
       "      <th>timeStamp</th>\n",
       "      <th>demand</th>\n",
       "      <th>precip</th>\n",
       "      <th>temp</th>\n",
       "    </tr>\n",
       "  </thead>\n",
       "  <tbody>\n",
       "    <tr>\n",
       "      <th>0</th>\n",
       "      <td>2012-01-01 00:00:00</td>\n",
       "      <td>4937.5</td>\n",
       "      <td>0.0</td>\n",
       "      <td>46.13</td>\n",
       "    </tr>\n",
       "    <tr>\n",
       "      <th>1</th>\n",
       "      <td>2012-01-01 01:00:00</td>\n",
       "      <td>4752.1</td>\n",
       "      <td>0.0</td>\n",
       "      <td>45.89</td>\n",
       "    </tr>\n",
       "    <tr>\n",
       "      <th>2</th>\n",
       "      <td>2012-01-01 02:00:00</td>\n",
       "      <td>4542.6</td>\n",
       "      <td>0.0</td>\n",
       "      <td>45.04</td>\n",
       "    </tr>\n",
       "    <tr>\n",
       "      <th>3</th>\n",
       "      <td>2012-01-01 03:00:00</td>\n",
       "      <td>4357.7</td>\n",
       "      <td>0.0</td>\n",
       "      <td>45.03</td>\n",
       "    </tr>\n",
       "    <tr>\n",
       "      <th>4</th>\n",
       "      <td>2012-01-01 04:00:00</td>\n",
       "      <td>4275.5</td>\n",
       "      <td>0.0</td>\n",
       "      <td>42.61</td>\n",
       "    </tr>\n",
       "  </tbody>\n",
       "</table>\n",
       "</div>"
      ],
      "text/plain": [
       "             timeStamp  demand  precip   temp\n",
       "0  2012-01-01 00:00:00  4937.5     0.0  46.13\n",
       "1  2012-01-01 01:00:00  4752.1     0.0  45.89\n",
       "2  2012-01-01 02:00:00  4542.6     0.0  45.04\n",
       "3  2012-01-01 03:00:00  4357.7     0.0  45.03\n",
       "4  2012-01-01 04:00:00  4275.5     0.0  42.61"
      ]
     },
     "execution_count": 5,
     "metadata": {},
     "output_type": "execute_result"
    }
   ],
   "source": [
    "# DATA\n",
    "df = pd.read_csv('https://raw.githubusercontent.com/srivatsan88/YouTubeLI/master/dataset/nyc_energy_consumption.csv')\n",
    "df.head()"
   ]
  },
  {
   "cell_type": "code",
   "execution_count": 6,
   "metadata": {},
   "outputs": [
    {
     "name": "stdout",
     "output_type": "stream",
     "text": [
      "Initial na 3\n",
      "Current na 0\n"
     ]
    },
    {
     "data": {
      "text/html": [
       "<div>\n",
       "<style scoped>\n",
       "    .dataframe tbody tr th:only-of-type {\n",
       "        vertical-align: middle;\n",
       "    }\n",
       "\n",
       "    .dataframe tbody tr th {\n",
       "        vertical-align: top;\n",
       "    }\n",
       "\n",
       "    .dataframe thead th {\n",
       "        text-align: right;\n",
       "    }\n",
       "</style>\n",
       "<table border=\"1\" class=\"dataframe\">\n",
       "  <thead>\n",
       "    <tr style=\"text-align: right;\">\n",
       "      <th></th>\n",
       "      <th>timeStamp</th>\n",
       "      <th>demand</th>\n",
       "      <th>precip</th>\n",
       "      <th>min_temp</th>\n",
       "      <th>max_temp</th>\n",
       "      <th>avg_temp</th>\n",
       "    </tr>\n",
       "  </thead>\n",
       "  <tbody>\n",
       "    <tr>\n",
       "      <th>0</th>\n",
       "      <td>2012-01-01</td>\n",
       "      <td>118916.0</td>\n",
       "      <td>0.0597</td>\n",
       "      <td>38.78</td>\n",
       "      <td>50.77</td>\n",
       "      <td>46.510000</td>\n",
       "    </tr>\n",
       "    <tr>\n",
       "      <th>1</th>\n",
       "      <td>2012-01-02</td>\n",
       "      <td>127270.9</td>\n",
       "      <td>0.0000</td>\n",
       "      <td>33.57</td>\n",
       "      <td>49.78</td>\n",
       "      <td>40.496667</td>\n",
       "    </tr>\n",
       "    <tr>\n",
       "      <th>2</th>\n",
       "      <td>2012-01-03</td>\n",
       "      <td>146292.3</td>\n",
       "      <td>0.0000</td>\n",
       "      <td>16.47</td>\n",
       "      <td>33.14</td>\n",
       "      <td>26.672500</td>\n",
       "    </tr>\n",
       "    <tr>\n",
       "      <th>3</th>\n",
       "      <td>2012-01-04</td>\n",
       "      <td>152070.4</td>\n",
       "      <td>0.0000</td>\n",
       "      <td>13.40</td>\n",
       "      <td>31.83</td>\n",
       "      <td>20.585000</td>\n",
       "    </tr>\n",
       "    <tr>\n",
       "      <th>4</th>\n",
       "      <td>2012-01-05</td>\n",
       "      <td>147125.9</td>\n",
       "      <td>0.0000</td>\n",
       "      <td>27.31</td>\n",
       "      <td>39.16</td>\n",
       "      <td>33.577500</td>\n",
       "    </tr>\n",
       "  </tbody>\n",
       "</table>\n",
       "</div>"
      ],
      "text/plain": [
       "   timeStamp    demand  precip  min_temp  max_temp   avg_temp\n",
       "0 2012-01-01  118916.0  0.0597     38.78     50.77  46.510000\n",
       "1 2012-01-02  127270.9  0.0000     33.57     49.78  40.496667\n",
       "2 2012-01-03  146292.3  0.0000     16.47     33.14  26.672500\n",
       "3 2012-01-04  152070.4  0.0000     13.40     31.83  20.585000\n",
       "4 2012-01-05  147125.9  0.0000     27.31     39.16  33.577500"
      ]
     },
     "execution_count": 6,
     "metadata": {},
     "output_type": "execute_result"
    }
   ],
   "source": [
    "# Processing\n",
    "df['timeStamp'] = pd.to_datetime(df['timeStamp'])\n",
    "# demand missing from 2017-08-10\n",
    "df = df[df['timeStamp']<'2017-08-10']\n",
    "\n",
    "# Resample\n",
    "df = df.set_index('timeStamp')\n",
    "df_daily = df[['demand', 'precip']].resample('D').sum()\n",
    "temp = df.groupby(df.index.date)['temp'].agg(min_temp = 'min', max_temp = 'max', avg_temp = 'mean')\n",
    "df_daily = df_daily.join(temp)\n",
    "df_daily = df_daily.reset_index()\n",
    "\n",
    "# Treat na\n",
    "print('Initial na', df_daily.isna().sum().sum())\n",
    "df_daily = df_daily.fillna(method='ffill')\n",
    "print('Current na', df_daily.isna().sum().sum())\n",
    "df_daily.head()"
   ]
  },
  {
   "cell_type": "code",
   "execution_count": 7,
   "metadata": {},
   "outputs": [
    {
     "data": {
      "text/html": [
       "<div>\n",
       "<style scoped>\n",
       "    .dataframe tbody tr th:only-of-type {\n",
       "        vertical-align: middle;\n",
       "    }\n",
       "\n",
       "    .dataframe tbody tr th {\n",
       "        vertical-align: top;\n",
       "    }\n",
       "\n",
       "    .dataframe thead th {\n",
       "        text-align: right;\n",
       "    }\n",
       "</style>\n",
       "<table border=\"1\" class=\"dataframe\">\n",
       "  <thead>\n",
       "    <tr style=\"text-align: right;\">\n",
       "      <th></th>\n",
       "      <th>timeStamp</th>\n",
       "      <th>demand</th>\n",
       "      <th>precip</th>\n",
       "      <th>min_temp</th>\n",
       "      <th>max_temp</th>\n",
       "      <th>avg_temp</th>\n",
       "      <th>year</th>\n",
       "      <th>month</th>\n",
       "      <th>weekday</th>\n",
       "      <th>week</th>\n",
       "    </tr>\n",
       "  </thead>\n",
       "  <tbody>\n",
       "    <tr>\n",
       "      <th>0</th>\n",
       "      <td>2012-01-01</td>\n",
       "      <td>118916.0</td>\n",
       "      <td>0.0597</td>\n",
       "      <td>38.78</td>\n",
       "      <td>50.77</td>\n",
       "      <td>46.510000</td>\n",
       "      <td>2012</td>\n",
       "      <td>1</td>\n",
       "      <td>7</td>\n",
       "      <td>52</td>\n",
       "    </tr>\n",
       "    <tr>\n",
       "      <th>1</th>\n",
       "      <td>2012-01-02</td>\n",
       "      <td>127270.9</td>\n",
       "      <td>0.0000</td>\n",
       "      <td>33.57</td>\n",
       "      <td>49.78</td>\n",
       "      <td>40.496667</td>\n",
       "      <td>2012</td>\n",
       "      <td>1</td>\n",
       "      <td>1</td>\n",
       "      <td>1</td>\n",
       "    </tr>\n",
       "    <tr>\n",
       "      <th>2</th>\n",
       "      <td>2012-01-03</td>\n",
       "      <td>146292.3</td>\n",
       "      <td>0.0000</td>\n",
       "      <td>16.47</td>\n",
       "      <td>33.14</td>\n",
       "      <td>26.672500</td>\n",
       "      <td>2012</td>\n",
       "      <td>1</td>\n",
       "      <td>2</td>\n",
       "      <td>1</td>\n",
       "    </tr>\n",
       "    <tr>\n",
       "      <th>3</th>\n",
       "      <td>2012-01-04</td>\n",
       "      <td>152070.4</td>\n",
       "      <td>0.0000</td>\n",
       "      <td>13.40</td>\n",
       "      <td>31.83</td>\n",
       "      <td>20.585000</td>\n",
       "      <td>2012</td>\n",
       "      <td>1</td>\n",
       "      <td>3</td>\n",
       "      <td>1</td>\n",
       "    </tr>\n",
       "    <tr>\n",
       "      <th>4</th>\n",
       "      <td>2012-01-05</td>\n",
       "      <td>147125.9</td>\n",
       "      <td>0.0000</td>\n",
       "      <td>27.31</td>\n",
       "      <td>39.16</td>\n",
       "      <td>33.577500</td>\n",
       "      <td>2012</td>\n",
       "      <td>1</td>\n",
       "      <td>4</td>\n",
       "      <td>1</td>\n",
       "    </tr>\n",
       "  </tbody>\n",
       "</table>\n",
       "</div>"
      ],
      "text/plain": [
       "   timeStamp    demand  precip  min_temp  max_temp   avg_temp  year  month  \\\n",
       "0 2012-01-01  118916.0  0.0597     38.78     50.77  46.510000  2012      1   \n",
       "1 2012-01-02  127270.9  0.0000     33.57     49.78  40.496667  2012      1   \n",
       "2 2012-01-03  146292.3  0.0000     16.47     33.14  26.672500  2012      1   \n",
       "3 2012-01-04  152070.4  0.0000     13.40     31.83  20.585000  2012      1   \n",
       "4 2012-01-05  147125.9  0.0000     27.31     39.16  33.577500  2012      1   \n",
       "\n",
       "   weekday  week  \n",
       "0        7    52  \n",
       "1        1     1  \n",
       "2        2     1  \n",
       "3        3     1  \n",
       "4        4     1  "
      ]
     },
     "execution_count": 7,
     "metadata": {},
     "output_type": "execute_result"
    }
   ],
   "source": [
    "# Time features\n",
    "df_daily['year'] = df_daily['timeStamp'].dt.year\n",
    "df_daily['month'] = df_daily['timeStamp'].dt.month\n",
    "df_daily['weekday'] = df_daily['timeStamp'].dt.dayofweek+1\n",
    "df_daily['week'] = df_daily['timeStamp'].dt.isocalendar().week\n",
    "df_daily.head()"
   ]
  },
  {
   "cell_type": "code",
   "execution_count": 8,
   "metadata": {},
   "outputs": [
    {
     "name": "stdout",
     "output_type": "stream",
     "text": [
      "(2008, 10)\n",
      "(40, 10)\n"
     ]
    }
   ],
   "source": [
    "# Train/test split\n",
    "train = df_daily[df_daily['timeStamp']<='2017-06-30']\n",
    "test = df_daily[df_daily['timeStamp']>'2017-06-30']\n",
    "print(train.shape)\n",
    "print(test.shape)"
   ]
  },
  {
   "cell_type": "markdown",
   "metadata": {},
   "source": [
    "## h2o"
   ]
  },
  {
   "cell_type": "code",
   "execution_count": 10,
   "metadata": {},
   "outputs": [
    {
     "name": "stdout",
     "output_type": "stream",
     "text": [
      "Checking whether there is an H2O instance running at http://localhost:54321 ..... not found.\n",
      "Attempting to start a local H2O server...\n",
      "; OpenJDK 64-Bit Server VM (build 11.0.6+8-b765.1, mixed mode)\n",
      "  Starting server from C:\\Users\\afotina\\Anaconda3\\envs\\ts_automl_env\\lib\\site-packages\\h2o\\backend\\bin\\h2o.jar\n",
      "  Ice root: C:\\Users\\afotina\\AppData\\Local\\Temp\\tmpltx4ofkw\n",
      "  JVM stdout: C:\\Users\\afotina\\AppData\\Local\\Temp\\tmpltx4ofkw\\h2o_afotina_started_from_python.out\n",
      "  JVM stderr: C:\\Users\\afotina\\AppData\\Local\\Temp\\tmpltx4ofkw\\h2o_afotina_started_from_python.err\n",
      "  Server is running at http://127.0.0.1:54321\n",
      "Connecting to H2O server at http://127.0.0.1:54321 ... successful.\n"
     ]
    },
    {
     "data": {
      "text/html": [
       "<div style=\"overflow:auto\"><table style=\"width:50%\"><tr><td>H2O_cluster_uptime:</td>\n",
       "<td>04 secs</td></tr>\n",
       "<tr><td>H2O_cluster_timezone:</td>\n",
       "<td>Europe/Berlin</td></tr>\n",
       "<tr><td>H2O_data_parsing_timezone:</td>\n",
       "<td>UTC</td></tr>\n",
       "<tr><td>H2O_cluster_version:</td>\n",
       "<td>3.32.1.7</td></tr>\n",
       "<tr><td>H2O_cluster_version_age:</td>\n",
       "<td>4 days </td></tr>\n",
       "<tr><td>H2O_cluster_name:</td>\n",
       "<td>H2O_from_python_afotina_k79wlz</td></tr>\n",
       "<tr><td>H2O_cluster_total_nodes:</td>\n",
       "<td>1</td></tr>\n",
       "<tr><td>H2O_cluster_free_memory:</td>\n",
       "<td>3.961 Gb</td></tr>\n",
       "<tr><td>H2O_cluster_total_cores:</td>\n",
       "<td>8</td></tr>\n",
       "<tr><td>H2O_cluster_allowed_cores:</td>\n",
       "<td>8</td></tr>\n",
       "<tr><td>H2O_cluster_status:</td>\n",
       "<td>accepting new members, healthy</td></tr>\n",
       "<tr><td>H2O_connection_url:</td>\n",
       "<td>http://127.0.0.1:54321</td></tr>\n",
       "<tr><td>H2O_connection_proxy:</td>\n",
       "<td>{\"http\": null, \"https\": null}</td></tr>\n",
       "<tr><td>H2O_internal_security:</td>\n",
       "<td>False</td></tr>\n",
       "<tr><td>H2O_API_Extensions:</td>\n",
       "<td>Amazon S3, Algos, AutoML, Core V3, TargetEncoder, Core V4</td></tr>\n",
       "<tr><td>Python_version:</td>\n",
       "<td>3.7.11 final</td></tr></table></div>"
      ],
      "text/plain": [
       "--------------------------  ---------------------------------------------------------\n",
       "H2O_cluster_uptime:         04 secs\n",
       "H2O_cluster_timezone:       Europe/Berlin\n",
       "H2O_data_parsing_timezone:  UTC\n",
       "H2O_cluster_version:        3.32.1.7\n",
       "H2O_cluster_version_age:    4 days\n",
       "H2O_cluster_name:           H2O_from_python_afotina_k79wlz\n",
       "H2O_cluster_total_nodes:    1\n",
       "H2O_cluster_free_memory:    3.961 Gb\n",
       "H2O_cluster_total_cores:    8\n",
       "H2O_cluster_allowed_cores:  8\n",
       "H2O_cluster_status:         accepting new members, healthy\n",
       "H2O_connection_url:         http://127.0.0.1:54321\n",
       "H2O_connection_proxy:       {\"http\": null, \"https\": null}\n",
       "H2O_internal_security:      False\n",
       "H2O_API_Extensions:         Amazon S3, Algos, AutoML, Core V3, TargetEncoder, Core V4\n",
       "Python_version:             3.7.11 final\n",
       "--------------------------  ---------------------------------------------------------"
      ]
     },
     "metadata": {},
     "output_type": "display_data"
    }
   ],
   "source": [
    "h2o.init()"
   ]
  },
  {
   "cell_type": "code",
   "execution_count": 11,
   "metadata": {},
   "outputs": [
    {
     "name": "stdout",
     "output_type": "stream",
     "text": [
      "Parse progress: |█████████████████████████████████████████████████████████| 100%\n",
      "Parse progress: |█████████████████████████████████████████████████████████| 100%\n",
      "Rows:2008\n",
      "Cols:10\n",
      "\n",
      "\n"
     ]
    },
    {
     "data": {
      "text/html": [
       "<table>\n",
       "<thead>\n",
       "<tr><th>       </th><th>timeStamp          </th><th>demand            </th><th>precip             </th><th>min_temp          </th><th>max_temp          </th><th>avg_temp          </th><th>year              </th><th>month             </th><th>weekday           </th><th>week              </th></tr>\n",
       "</thead>\n",
       "<tbody>\n",
       "<tr><td>type   </td><td>time               </td><td>real              </td><td>real               </td><td>real              </td><td>real              </td><td>real              </td><td>int               </td><td>int               </td><td>int               </td><td>int               </td></tr>\n",
       "<tr><td>mins   </td><td>1325376000000.0    </td><td>87914.3           </td><td>0.0                </td><td>0.33              </td><td>15.62             </td><td>9.015             </td><td>2012.0            </td><td>1.0               </td><td>1.0               </td><td>1.0               </td></tr>\n",
       "<tr><td>mean   </td><td>1412078400000.0    </td><td>144959.5819855576 </td><td>0.08386015936254966</td><td>48.72722609561756 </td><td>61.65966633466135 </td><td>55.064279524978964</td><td>2014.2704183266917</td><td>6.2495019920318855</td><td>3.999003984063745 </td><td>25.42729083665339 </td></tr>\n",
       "<tr><td>maxs   </td><td>1498780800000.0    </td><td>243918.7          </td><td>2.7169             </td><td>83.23             </td><td>97.26             </td><td>89.60666666666667 </td><td>2017.0            </td><td>12.0              </td><td>7.0               </td><td>53.0              </td></tr>\n",
       "<tr><td>sigma  </td><td>50095064724.58141  </td><td>23120.937571071627</td><td>0.2186346457158585 </td><td>16.759256931604337</td><td>17.694447439593798</td><td>17.028534121942798</td><td>1.6003491847131284</td><td>3.4407215484961915</td><td>2.0004979459805785</td><td>15.043623403727567</td></tr>\n",
       "<tr><td>zeros  </td><td>0                  </td><td>0                 </td><td>1159               </td><td>0                 </td><td>0                 </td><td>0                 </td><td>0                 </td><td>0                 </td><td>0                 </td><td>0                 </td></tr>\n",
       "<tr><td>missing</td><td>0                  </td><td>0                 </td><td>0                  </td><td>0                 </td><td>0                 </td><td>0                 </td><td>0                 </td><td>0                 </td><td>0                 </td><td>0                 </td></tr>\n",
       "<tr><td>0      </td><td>2012-01-01 00:00:00</td><td>118916.0          </td><td>0.0597             </td><td>38.78             </td><td>50.77             </td><td>46.51             </td><td>2012.0            </td><td>1.0               </td><td>7.0               </td><td>52.0              </td></tr>\n",
       "<tr><td>1      </td><td>2012-01-02 00:00:00</td><td>127270.9          </td><td>0.0                </td><td>33.57             </td><td>49.78             </td><td>40.49666666666666 </td><td>2012.0            </td><td>1.0               </td><td>1.0               </td><td>1.0               </td></tr>\n",
       "<tr><td>2      </td><td>2012-01-03 00:00:00</td><td>146292.3          </td><td>0.0                </td><td>16.47             </td><td>33.14             </td><td>26.6725           </td><td>2012.0            </td><td>1.0               </td><td>2.0               </td><td>1.0               </td></tr>\n",
       "<tr><td>3      </td><td>2012-01-04 00:00:00</td><td>152070.4          </td><td>0.0                </td><td>13.4              </td><td>31.83             </td><td>20.585            </td><td>2012.0            </td><td>1.0               </td><td>3.0               </td><td>1.0               </td></tr>\n",
       "<tr><td>4      </td><td>2012-01-05 00:00:00</td><td>147125.9          </td><td>0.0                </td><td>27.31             </td><td>39.16             </td><td>33.5775           </td><td>2012.0            </td><td>1.0               </td><td>4.0               </td><td>1.0               </td></tr>\n",
       "<tr><td>5      </td><td>2012-01-06 00:00:00</td><td>140820.9          </td><td>0.0                </td><td>33.66             </td><td>51.94             </td><td>43.40083333333333 </td><td>2012.0            </td><td>1.0               </td><td>5.0               </td><td>1.0               </td></tr>\n",
       "<tr><td>6      </td><td>2012-01-07 00:00:00</td><td>124258.6          </td><td>0.0                </td><td>42.92             </td><td>61.32             </td><td>51.49791666666667 </td><td>2012.0            </td><td>1.0               </td><td>6.0               </td><td>1.0               </td></tr>\n",
       "<tr><td>7      </td><td>2012-01-08 00:00:00</td><td>122893.0          </td><td>0.0                </td><td>34.05             </td><td>46.75             </td><td>41.467083333333335</td><td>2012.0            </td><td>1.0               </td><td>7.0               </td><td>1.0               </td></tr>\n",
       "<tr><td>8      </td><td>2012-01-09 00:00:00</td><td>141379.7          </td><td>0.0                </td><td>31.5              </td><td>40.14             </td><td>35.36             </td><td>2012.0            </td><td>1.0               </td><td>1.0               </td><td>2.0               </td></tr>\n",
       "<tr><td>9      </td><td>2012-01-10 00:00:00</td><td>140910.3          </td><td>0.0                </td><td>34.21             </td><td>46.57             </td><td>40.50333333333334 </td><td>2012.0            </td><td>1.0               </td><td>2.0               </td><td>2.0               </td></tr>\n",
       "</tbody>\n",
       "</table>"
      ]
     },
     "metadata": {},
     "output_type": "display_data"
    }
   ],
   "source": [
    "# Create h2o dataframes\n",
    "hf_train = h2o.H2OFrame(train)\n",
    "hf_test = h2o.H2OFrame(test)\n",
    "hf_train.describe()"
   ]
  },
  {
   "cell_type": "code",
   "execution_count": 12,
   "metadata": {},
   "outputs": [],
   "source": [
    "# Col names\n",
    "y = 'demand'\n",
    "X = hf_train.columns\n",
    "X.remove(y)"
   ]
  },
  {
   "cell_type": "code",
   "execution_count": 13,
   "metadata": {},
   "outputs": [
    {
     "name": "stdout",
     "output_type": "stream",
     "text": [
      "AutoML progress: |\n",
      "16:09:08.904: AutoML: XGBoost is not available; skipping it.\n",
      "\n",
      "████████████████████████████████████████████████████████| 100%\n"
     ]
    }
   ],
   "source": [
    "aml = H2OAutoML(max_runtime_secs = 600,\n",
    "                seed = 42)\n",
    "\n",
    "aml.train(x = X, \n",
    "          y = y,\n",
    "          training_frame = hf_train,\n",
    "          leaderboard_frame = hf_test)"
   ]
  },
  {
   "cell_type": "code",
   "execution_count": 14,
   "metadata": {},
   "outputs": [
    {
     "data": {
      "text/html": [
       "<table>\n",
       "<thead>\n",
       "<tr><th>model_id                                           </th><th style=\"text-align: right;\">  mean_residual_deviance</th><th style=\"text-align: right;\">   rmse</th><th style=\"text-align: right;\">        mse</th><th style=\"text-align: right;\">    mae</th><th style=\"text-align: right;\">    rmsle</th></tr>\n",
       "</thead>\n",
       "<tbody>\n",
       "<tr><td>StackedEnsemble_BestOfFamily_AutoML_20210907_160908</td><td style=\"text-align: right;\">             5.00952e+07</td><td style=\"text-align: right;\">7077.8 </td><td style=\"text-align: right;\">5.00952e+07</td><td style=\"text-align: right;\">5135.41</td><td style=\"text-align: right;\">0.0416947</td></tr>\n",
       "<tr><td>GBM_grid__1_AutoML_20210907_160908_model_9         </td><td style=\"text-align: right;\">             5.02092e+07</td><td style=\"text-align: right;\">7085.85</td><td style=\"text-align: right;\">5.02092e+07</td><td style=\"text-align: right;\">5117.32</td><td style=\"text-align: right;\">0.0417744</td></tr>\n",
       "<tr><td>StackedEnsemble_AllModels_AutoML_20210907_160908   </td><td style=\"text-align: right;\">             5.02882e+07</td><td style=\"text-align: right;\">7091.41</td><td style=\"text-align: right;\">5.02882e+07</td><td style=\"text-align: right;\">5097.51</td><td style=\"text-align: right;\">0.0418388</td></tr>\n",
       "<tr><td>GBM_3_AutoML_20210907_160908                       </td><td style=\"text-align: right;\">             5.05879e+07</td><td style=\"text-align: right;\">7112.52</td><td style=\"text-align: right;\">5.05879e+07</td><td style=\"text-align: right;\">5277.67</td><td style=\"text-align: right;\">0.042074 </td></tr>\n",
       "<tr><td>GBM_grid__1_AutoML_20210907_160908_model_21        </td><td style=\"text-align: right;\">             5.06071e+07</td><td style=\"text-align: right;\">7113.87</td><td style=\"text-align: right;\">5.06071e+07</td><td style=\"text-align: right;\">5493.88</td><td style=\"text-align: right;\">0.0424369</td></tr>\n",
       "<tr><td>GBM_grid__1_AutoML_20210907_160908_model_23        </td><td style=\"text-align: right;\">             5.12803e+07</td><td style=\"text-align: right;\">7161.03</td><td style=\"text-align: right;\">5.12803e+07</td><td style=\"text-align: right;\">5564.32</td><td style=\"text-align: right;\">0.042284 </td></tr>\n",
       "<tr><td>GBM_2_AutoML_20210907_160908                       </td><td style=\"text-align: right;\">             5.15821e+07</td><td style=\"text-align: right;\">7182.07</td><td style=\"text-align: right;\">5.15821e+07</td><td style=\"text-align: right;\">5124.84</td><td style=\"text-align: right;\">0.0421547</td></tr>\n",
       "<tr><td>GBM_grid__1_AutoML_20210907_160908_model_24        </td><td style=\"text-align: right;\">             5.33253e+07</td><td style=\"text-align: right;\">7302.42</td><td style=\"text-align: right;\">5.33253e+07</td><td style=\"text-align: right;\">5196.11</td><td style=\"text-align: right;\">0.0432058</td></tr>\n",
       "<tr><td>GBM_grid__1_AutoML_20210907_160908_model_16        </td><td style=\"text-align: right;\">             5.4919e+07 </td><td style=\"text-align: right;\">7410.74</td><td style=\"text-align: right;\">5.4919e+07 </td><td style=\"text-align: right;\">5375.82</td><td style=\"text-align: right;\">0.0436438</td></tr>\n",
       "<tr><td>GBM_grid__1_AutoML_20210907_160908_model_20        </td><td style=\"text-align: right;\">             5.52458e+07</td><td style=\"text-align: right;\">7432.75</td><td style=\"text-align: right;\">5.52458e+07</td><td style=\"text-align: right;\">5454   </td><td style=\"text-align: right;\">0.0436445</td></tr>\n",
       "</tbody>\n",
       "</table>"
      ]
     },
     "metadata": {},
     "output_type": "display_data"
    },
    {
     "data": {
      "text/plain": []
     },
     "execution_count": 14,
     "metadata": {},
     "output_type": "execute_result"
    }
   ],
   "source": [
    "aml.leaderboard"
   ]
  },
  {
   "cell_type": "code",
   "execution_count": 15,
   "metadata": {},
   "outputs": [
    {
     "name": "stdout",
     "output_type": "stream",
     "text": [
      "Model Details\n",
      "=============\n",
      "H2OStackedEnsembleEstimator :  Stacked Ensemble\n",
      "Model Key:  StackedEnsemble_BestOfFamily_AutoML_20210907_160908\n",
      "\n",
      "No model summary for this model\n",
      "\n",
      "ModelMetricsRegressionGLM: stackedensemble\n",
      "** Reported on train data. **\n",
      "\n",
      "MSE: 9483537.522413915\n",
      "RMSE: 3079.5352770205304\n",
      "MAE: 1946.3645031591766\n",
      "RMSLE: 0.02116806770831739\n",
      "R^2: 0.982250921095122\n",
      "Mean Residual Deviance: 9483537.522413915\n",
      "Null degrees of freedom: 2007\n",
      "Residual degrees of freedom: 2004\n",
      "Null deviance: 1072897554124.413\n",
      "Residual deviance: 19042943345.00714\n",
      "AIC: 37967.11361503487\n",
      "\n",
      "ModelMetricsRegressionGLM: stackedensemble\n",
      "** Reported on cross-validation data. **\n",
      "\n",
      "MSE: 25868396.637355495\n",
      "RMSE: 5086.098370790275\n",
      "MAE: 3257.429644333197\n",
      "RMSLE: 0.03423445941169222\n",
      "R^2: 0.9515855542328988\n",
      "Mean Residual Deviance: 25868396.637355495\n",
      "Null degrees of freedom: 2007\n",
      "Residual degrees of freedom: 2004\n",
      "Null deviance: 1074397838404.2074\n",
      "Residual deviance: 51943740447.80984\n",
      "AIC: 39982.07055906461\n"
     ]
    },
    {
     "data": {
      "text/plain": []
     },
     "execution_count": 15,
     "metadata": {},
     "output_type": "execute_result"
    }
   ],
   "source": [
    "leader_model = aml.leader\n",
    "leader_model"
   ]
  },
  {
   "cell_type": "code",
   "execution_count": 18,
   "metadata": {},
   "outputs": [
    {
     "name": "stdout",
     "output_type": "stream",
     "text": [
      "stackedensemble prediction progress: |████████████████████████████████████| 100%\n"
     ]
    }
   ],
   "source": [
    "pred = leader_model.predict(hf_test)"
   ]
  },
  {
   "cell_type": "code",
   "execution_count": 33,
   "metadata": {},
   "outputs": [
    {
     "name": "stdout",
     "output_type": "stream",
     "text": [
      "h2o model validation results:\n",
      "RMSE_valid 7077.796980629294\n",
      "mape_valid [0.03031913755113745]\n"
     ]
    }
   ],
   "source": [
    "rmse_valid = np.sqrt(((pred-hf_test['demand'])**2).mean()[0])\n",
    "mape_valid = (abs((pred-hf_test['demand'])/hf_test['demand'])).mean()\n",
    "print('h2o model validation results:')\n",
    "print('RMSE_valid', rmse_valid)\n",
    "print('mape_valid', mape_valid)"
   ]
  },
  {
   "cell_type": "code",
   "execution_count": null,
   "metadata": {},
   "outputs": [],
   "source": []
  }
 ],
 "metadata": {
  "kernelspec": {
   "display_name": "Python [conda env:ts_automl_env]",
   "language": "python",
   "name": "conda-env-ts_automl_env-py"
  },
  "language_info": {
   "codemirror_mode": {
    "name": "ipython",
    "version": 3
   },
   "file_extension": ".py",
   "mimetype": "text/x-python",
   "name": "python",
   "nbconvert_exporter": "python",
   "pygments_lexer": "ipython3",
   "version": "3.7.11"
  }
 },
 "nbformat": 4,
 "nbformat_minor": 4
}
